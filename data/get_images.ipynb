{
 "cells": [
  {
   "attachments": {},
   "cell_type": "markdown",
   "metadata": {},
   "source": [
    "### Instruction on using this scrapper:\n",
    "1. find your cookie/user-agent after login to https://www.pixiv.net/\n",
    "2. copy/paste informations into the headers dictionary"
   ]
  },
  {
   "cell_type": "code",
   "execution_count": 1,
   "metadata": {},
   "outputs": [],
   "source": [
    "#import libraries\n",
    "import requests,os,time"
   ]
  },
  {
   "cell_type": "code",
   "execution_count": 4,
   "metadata": {},
   "outputs": [],
   "source": [
    "#provide headers\n",
    "headers = {\n",
    "    \"cookie\":'first_visit_datetime_pc=2022-12-16+06:44:50; p_ab_id=5; p_ab_id_2=1; p_ab_d_id=2124604250; yuid_b=IHeQEVk; _gcl_au=1.1.1665874345.1671140693; __utmc=235335808; __utmz=235335808.1671140693.1.1.utmcsr=google|utmccn=(organic)|utmcmd=organic|utmctr=(not provided); _fbp=fb.1.1671140692967.372294731; _gid=GA1.2.21948198.1671140722; device_token=ca8897d17680a96491673f0365c5ef67; privacy_policy_agreement=5; c_type=22; privacy_policy_notification=0; a_type=0; b_type=1; _im_vid=01GMBWSN9JK59KXW8VGAEA0CY9; QSI_S_ZN_5hF4My7Ad6VNNAi=v:0:0; login_ever=yes; __utma=235335808.1861929666.1671140693.1671144370.1671151749.3; PHPSESSID=89114554_C10pwk4WcWyIDjhTXiIhMlYUxcSunIgG; _ga_MZ1NL4PHH0=GS1.1.1671152276.2.1.1671152637.0.0.0; __utmv=235335808.|2=login ever=yes=1^3=plan=premium=1^5=gender=male=1^6=user_id=89114554=1^9=p_ab_id=5=1^10=p_ab_id_2=1=1^11=lang=zh=1; __utmt=1; __cf_bm=eaoGXHju1yJS4duwOttmkIrD0.tnx_0u91JzuzHJwR4-1671153315-0-AUw7oPBQid6MXu7MZgnYP6ZbtAOho//MbGA2Nu+Uo5ZfjMm3sHbgkJs+DP3vj5WkeXnfLSPKQEZrevlh3H4PuXDXQAcefGGGCvcQ0Cm80AFAyhFENFZWZn4fX5KHRPyFmv+1n1EGe51nFwrkwelQlH7Z4om8FXFyUmYQCp/GiatCYz03cg5vS6vr+IgL22iUiJ8kcU03aphhfbkB5HlZbnI=; adr_id=7X3lOI8KZpB0eDOvZQWgVqYoqEzKniuyVh7gksoJ4NxpHqIT; __utmb=235335808.29.10.1671151749; _ga_75BBYNYN9J=GS1.1.1671151748.3.1.1671153478.0.0.0; _ga=GA1.1.1861929666.1671140693; cto_bundle=qffzVl9jR28xUjI2RVJoTVJBTUYyOHhrNkFBTThaRk9QWCUyRm9VN1gyZ2hySDU2aHU3Rm1zSlhLbXFPWmkxMnhMeDFCVlpidDJnSnVqZUlpZ0o0UlhWNlNrcXFMZ3BBeUhFZWFhWnNXY0h0dmRiZVZOaDVoZCUyQkZyViUyRkNpME5CYm4xSGdMckdBQnhobU5UMVNUN2twYjJrcVQlMkZPQzh6S1dVdFdGbDJlZmxQNE1TT0pLM2ZXR2VCR0lvYXZubm9rNXRGc0YxUQ',\n",
    "    'Referer': 'https://www.pixiv.net/',\n",
    "    'user-agent': 'Mozilla/5.0 (Macintosh; Intel Mac OS X 10_15_7) AppleWebKit/537.36 (KHTML, like Gecko) Chrome/108.0.0.0 Safari/537.36'\n",
    "}"
   ]
  },
  {
   "attachments": {},
   "cell_type": "markdown",
   "metadata": {},
   "source": [
    "### If single page (by limiting image number):"
   ]
  },
  {
   "cell_type": "code",
   "execution_count": 8,
   "metadata": {},
   "outputs": [
    {
     "name": "stdout",
     "output_type": "stream",
     "text": [
      "1 images scrapped!\n",
      "2 images scrapped!\n",
      "3 images scrapped!\n",
      "4 images scrapped!\n",
      "5 images scrapped!\n",
      "6 images scrapped!\n"
     ]
    },
    {
     "ename": "",
     "evalue": "",
     "output_type": "error",
     "traceback": [
      "\u001b[1;31mThe Kernel crashed while executing code in the the current cell or a previous cell. Please review the code in the cell(s) to identify a possible cause of the failure. Click <a href='https://aka.ms/vscodeJupyterKernelCrash'>here</a> for more info. View Jupyter <a href='command:jupyter.viewOutput'>log</a> for further details."
     ]
    }
   ],
   "source": [
    "c = 0 # count of images\n",
    "\n",
    "#美少女tag：https://www.pixiv.net/tags/%E7%BE%8E%E5%B0%91%E5%A5%B3/artworks\n",
    "shs = requests.get(\"https://www.pixiv.net/ranking.php?mode=monthly&date=20221208&format=json\",headers=headers)\n",
    "shs.encoding='utf-8'\n",
    "zbj = shs.json()\n",
    "for k in zbj[\"contents\"]:\n",
    "    #图片数量改这里（c < 6 :六张图片）\n",
    "    if c < 6:\n",
    "        illust_id = k[\"illust_id\"]\n",
    "        swk = requests.get(\"https://www.pixiv.net/ajax/illust/\"+str(illust_id)+\"/pages?lang=zh\",headers=headers)\n",
    "        swk_j = swk.json()\n",
    "        j = 1\n",
    "        for i in swk_j[\"body\"]:\n",
    "            original = i[\"urls\"][\"original\"].replace(\"\\\\\",\"\")\n",
    "            ts = requests.get(original, headers=headers)\n",
    "            if not os.path.exists(\"pic\"):\n",
    "                os.mkdir(\"pic\")\n",
    "            with open(\"pic\"+\"/\"+str(illust_id)+\"_\"+str(j)+\".\"+original.split(\".\")[-1], \"wb\") as f:\n",
    "                f.write(ts.content)\n",
    "            j+=1\n",
    "            time.sleep(2)\n",
    "        c += 1\n",
    "        print(c, 'images scrapped!')\n",
    "    else:\n",
    "        quit()"
   ]
  },
  {
   "attachments": {},
   "cell_type": "markdown",
   "metadata": {},
   "source": [
    "### Multiple pages (by limiting page number): "
   ]
  },
  {
   "cell_type": "code",
   "execution_count": null,
   "metadata": {},
   "outputs": [],
   "source": [
    "o = 0\n",
    "for m in range(1,3):\n",
    "    shs = requests.get(\"https://www.pixiv.net/ranking.php?mode=monthly&date=20221208&p=\"+str(m)+\"&format=json\",headers=headers)\n",
    "    shs.encoding='utf-8'\n",
    "    zbj = shs.json()\n",
    "    for k in zbj[\"contents\"]:\n",
    "        illust_id = k[\"illust_id\"]\n",
    "        swk = requests.get(\"https://www.pixiv.net/ajax/illust/\"+str(illust_id)+\"/pages?lang=zh\",headers=headers)\n",
    "        swk_j = swk.json()\n",
    "        j = 1\n",
    "        for i in swk_j[\"body\"]:\n",
    "            original = i[\"urls\"][\"original\"].replace(\"\\\\\",\"\")\n",
    "            ts = requests.get(original, headers=headers)\n",
    "            if not os.path.exists(\"pic\"):\n",
    "                os.mkdir(\"pic\")\n",
    "            with open(\"pic\"+\"/\"+str(illust_id)+\"_\"+str(j)+\".\"+original.split(\".\")[-1], \"wb\") as f:\n",
    "                f.write(ts.content)\n",
    "            j+=1\n",
    "            time.sleep(2)\n",
    "        o+=1\n",
    "        print(o, 'images scrapped!')"
   ]
  }
 ],
 "metadata": {
  "kernelspec": {
   "display_name": "base",
   "language": "python",
   "name": "python3"
  },
  "language_info": {
   "codemirror_mode": {
    "name": "ipython",
    "version": 3
   },
   "file_extension": ".py",
   "mimetype": "text/x-python",
   "name": "python",
   "nbconvert_exporter": "python",
   "pygments_lexer": "ipython3",
   "version": "3.8.8 (default, Apr 13 2021, 12:59:45) \n[Clang 10.0.0 ]"
  },
  "orig_nbformat": 4,
  "vscode": {
   "interpreter": {
    "hash": "22adce74e980e22e0d9d6c908ef96dc86cd60d730a4ec11d1c209d14ddfdc97d"
   }
  }
 },
 "nbformat": 4,
 "nbformat_minor": 2
}
