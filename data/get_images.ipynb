{
 "cells": [
  {
   "attachments": {},
   "cell_type": "markdown",
   "metadata": {},
   "source": [
    "### Instruction on using this scrapper:\n",
    "1. find your cookie/user-agent after login to https://www.pixiv.net/\n",
    "2. copy/paste informations into the headers dictionary"
   ]
  },
  {
   "cell_type": "code",
   "execution_count": 14,
   "metadata": {},
   "outputs": [],
   "source": [
    "#import libraries\n",
    "import requests,os,time"
   ]
  },
  {
   "cell_type": "code",
   "execution_count": 15,
   "metadata": {},
   "outputs": [],
   "source": [
    "#provide headers\n",
    "headers = {\n",
    "    \"cookie\":'first_visit_datetime_pc=2022-12-16+06:44:50; p_ab_id=5; p_ab_id_2=1; p_ab_d_id=2124604250; yuid_b=IHeQEVk; _gcl_au=1.1.1665874345.1671140693; __utmc=235335808; __utmz=235335808.1671140693.1.1.utmcsr=google|utmccn=(organic)|utmcmd=organic|utmctr=(not provided); _fbp=fb.1.1671140692967.372294731; _gid=GA1.2.21948198.1671140722; PHPSESSID=89114554_Cx4q8yTYuoj41KF7xnTGqa3HjZtO16wO; device_token=ca8897d17680a96491673f0365c5ef67; privacy_policy_agreement=5; _ga_MZ1NL4PHH0=GS1.1.1671141301.1.1.1671141573.0.0.0; c_type=22; privacy_policy_notification=0; a_type=0; b_type=1; __utmv=235335808.|2=login ever=no=1^3=plan=normal=1^5=gender=male=1^6=user_id=89114554=1^9=p_ab_id=5=1^10=p_ab_id_2=1=1^11=lang=zh=1; _im_vid=01GMBWSN9JK59KXW8VGAEA0CY9; QSI_S_ZN_5hF4My7Ad6VNNAi=v:0:0; cto_bundle=hs9sFV9jR28xUjI2RVJoTVJBTUYyOHhrNkFFOXFhZXpiT2tWRVMlMkZXWiUyRnlJbFY5S2JVZW1ucnZ5dHpCcTNiVmRSN1cybkxRSW9SQlElMkJkSjNnVGUydjNrOUE0WUFJJTJGalJsWSUyRkNOanNDcHVCVW5QUWJFQzFwUmdGYndkUEV2bTcydlFFeUc4alhLbmRFNjNraFJPbCUyRlNrOFkwTGclM0QlM0Q; _ga=GA1.1.1861929666.1671140693; __cf_bm=s2xpJ7.Os2DWAXBBS4W8jm_Zl_c4ceyXJc.UKqTC3Oc-1671143841-0-AXLLeYTaz0ynIoJtVinrfOie3rpqogeLeitrlys2ug3Fn/W1o+BwrUtfH2TvzrwtaF7iBQMFw1aPKEAZFlDbOIa/NA8RljtmwPkenuBYscFU; _ga_75BBYNYN9J=GS1.1.1671144369.2.0.1671144369.0.0.0; __utma=235335808.1861929666.1671140693.1671140693.1671144370.2; __utmb=235335808.0.10.1671144370',\n",
    "    'Referer': 'https://www.pixiv.net/',\n",
    "    'user-agent': 'Mozilla/5.0 (Macintosh; Intel Mac OS X 10_15_7) AppleWebKit/537.36 (KHTML, like Gecko) Chrome/108.0.0.0 Safari/537.36'\n",
    "}"
   ]
  },
  {
   "cell_type": "code",
   "execution_count": 19,
   "metadata": {},
   "outputs": [
    {
     "name": "stdout",
     "output_type": "stream",
     "text": [
      "1 images scrapped!\n"
     ]
    }
   ],
   "source": [
    "for o in range(1,200):\n",
    "    shs = requests.get(\"https://www.pixiv.net/ranking.php?mode=monthly&date=20221208&format=json\",headers=headers)\n",
    "    shs.encoding='utf-8'\n",
    "    zbj = shs.json()\n",
    "    for k in zbj[\"contents\"]:\n",
    "        illust_id = k[\"illust_id\"]\n",
    "        swk = requests.get(\"https://www.pixiv.net/ajax/illust/\"+str(illust_id)+\"/pages?lang=zh\",headers=headers)\n",
    "        swk_j = swk.json()\n",
    "        j = 1\n",
    "        for i in swk_j[\"body\"]:\n",
    "            original = i[\"urls\"][\"original\"].replace(\"\\\\\",\"\")\n",
    "            ts = requests.get(original, headers=headers)\n",
    "            if not os.path.exists(\"pic\"):\n",
    "                os.mkdir(\"pic\")\n",
    "            with open(\"pic\"+\"/\"+str(illust_id)+\"_\"+str(j)+\".\"+original.split(\".\")[-1], \"wb\") as f:\n",
    "                f.write(ts.content)\n",
    "            j+=1\n",
    "            time.sleep(2)\n",
    "        print(o, 'images scrapped!')"
   ]
  }
 ],
 "metadata": {
  "kernelspec": {
   "display_name": "base",
   "language": "python",
   "name": "python3"
  },
  "language_info": {
   "codemirror_mode": {
    "name": "ipython",
    "version": 3
   },
   "file_extension": ".py",
   "mimetype": "text/x-python",
   "name": "python",
   "nbconvert_exporter": "python",
   "pygments_lexer": "ipython3",
   "version": "3.8.8"
  },
  "orig_nbformat": 4,
  "vscode": {
   "interpreter": {
    "hash": "22adce74e980e22e0d9d6c908ef96dc86cd60d730a4ec11d1c209d14ddfdc97d"
   }
  }
 },
 "nbformat": 4,
 "nbformat_minor": 2
}
