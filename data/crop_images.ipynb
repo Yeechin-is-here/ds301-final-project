{
 "cells": [
  {
   "cell_type": "code",
   "execution_count": null,
   "metadata": {},
   "outputs": [],
   "source": [
    "!wget https://raw.githubusercontent.com/nagadomi/lbpcascade_animeface/master/lbpcascade_animeface.xml"
   ]
  },
  {
   "cell_type": "code",
   "execution_count": null,
   "metadata": {},
   "outputs": [],
   "source": [
    "import cv2\n",
    "import sys\n",
    "import os\n",
    "import os.path\n",
    "import shutil"
   ]
  },
  {
   "cell_type": "code",
   "execution_count": null,
   "metadata": {},
   "outputs": [],
   "source": [
    "def detect(filename, outname, cascade_file = \"./lbpcascade_animeface.xml\"):\n",
    "    if not os.path.isfile(cascade_file):\n",
    "        raise RuntimeError(\"%s: not found\" % cascade_file)\n",
    "\n",
    "    cascade = cv2.CascadeClassifier(cascade_file)\n",
    "    image = cv2.imread(filename, cv2.IMREAD_COLOR)\n",
    "    gray = cv2.cvtColor(image, cv2.COLOR_BGR2GRAY)\n",
    "    gray = cv2.equalizeHist(gray)\n",
    "    \n",
    "    faces = cascade.detectMultiScale(gray,\n",
    "                                     # detector options\n",
    "                                     scaleFactor = 1.1,\n",
    "                                     minNeighbors = 5,\n",
    "                                     minSize = (24, 24))\n",
    "    if len(faces) > 0:\n",
    "        x, y, w, h = faces[0]\n",
    "        #print(x, y, w, h)\n",
    "        cv2.imwrite(outname, image[int(y-0.1*h): int(y+0.9*h), x: x+w])\n",
    "        return True\n",
    "    else:\n",
    "        return False\n",
    "\n",
    "ct = 0\n",
    "os.mkdir('cropped')\n",
    "\n",
    "for y in range(2000, 2020):\n",
    "    img_dir = './images/' + str(y)\n",
    "    files = os.listdir(img_dir)\n",
    "    for f in files:\n",
    "        if detect(os.path.join(img_dir, f), './cropped/{}_{}.jpg'.format(ct, y)):\n",
    "            ct += 1\n",
    "            print(ct)"
   ]
  }
 ],
 "metadata": {
  "kernelspec": {
   "display_name": "base",
   "language": "python",
   "name": "python3"
  },
  "language_info": {
   "name": "python",
   "version": "3.8.8 (default, Apr 13 2021, 12:59:45) \n[Clang 10.0.0 ]"
  },
  "orig_nbformat": 4,
  "vscode": {
   "interpreter": {
    "hash": "22adce74e980e22e0d9d6c908ef96dc86cd60d730a4ec11d1c209d14ddfdc97d"
   }
  }
 },
 "nbformat": 4,
 "nbformat_minor": 2
}
